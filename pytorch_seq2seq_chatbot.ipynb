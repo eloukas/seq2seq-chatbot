{
  "nbformat": 4,
  "nbformat_minor": 0,
  "metadata": {
    "colab": {
      "name": "pytorch-seq2seq-chatbot.ipynb",
      "provenance": [],
      "collapsed_sections": [],
      "toc_visible": true
    },
    "kernelspec": {
      "name": "python3",
      "display_name": "Python 3"
    },
    "accelerator": "GPU"
  },
  "cells": [
    {
      "cell_type": "markdown",
      "metadata": {
        "id": "8LXbeY52AhPb",
        "colab_type": "text"
      },
      "source": [
        "# A Seq2seq Chatbot utilizing an Attention-based Encoder-Decoder Architecture\n"
      ]
    },
    {
      "cell_type": "markdown",
      "metadata": {
        "id": "zVMh-YbYjr8e",
        "colab_type": "text"
      },
      "source": [
        "- **Author: Eleftherios P. Loukas - eleftheriosloukas@gmail.com**"
      ]
    },
    {
      "cell_type": "markdown",
      "metadata": {
        "id": "HhDJj4tnAszi",
        "colab_type": "text"
      },
      "source": [
        "## Environment"
      ]
    },
    {
      "cell_type": "markdown",
      "metadata": {
        "id": "JhOS8B8J1El0",
        "colab_type": "text"
      },
      "source": [
        "We uploaded all the local data in our Google Drive. \n",
        "\n",
        "We will use Google Colaboratory since a GPU accelerator is provided without cost, along with a 26GB RAM too, which both will help us with our computations.\n",
        "\n",
        "Let's mount our data to Google Colaboratory so the notebook can have access to them."
      ]
    },
    {
      "cell_type": "code",
      "metadata": {
        "id": "hrcwHBmMDBhz",
        "colab_type": "code",
        "outputId": "d83663de-8a42-462a-8039-ef5301663d68",
        "colab": {
          "base_uri": "https://localhost:8080/",
          "height": 54
        }
      },
      "source": [
        "from google.colab import drive\n",
        "drive.mount('/content/drive')"
      ],
      "execution_count": 0,
      "outputs": [
        {
          "output_type": "stream",
          "text": [
            "Drive already mounted at /content/drive; to attempt to forcibly remount, call drive.mount(\"/content/drive\", force_remount=True).\n"
          ],
          "name": "stdout"
        }
      ]
    },
    {
      "cell_type": "code",
      "metadata": {
        "id": "scbaBo3dDQ-v",
        "colab_type": "code",
        "outputId": "7e9cd645-4e82-45f8-c32c-7501e2e9a348",
        "colab": {
          "base_uri": "https://localhost:8080/",
          "height": 34
        }
      },
      "source": [
        "import os\n",
        "print(os.getcwd())"
      ],
      "execution_count": 0,
      "outputs": [
        {
          "output_type": "stream",
          "text": [
            "/content\n"
          ],
          "name": "stdout"
        }
      ]
    },
    {
      "cell_type": "code",
      "metadata": {
        "id": "cdlrvU7so-cd",
        "colab_type": "code",
        "outputId": "91ebff17-3346-4b6b-b6dd-474a19c276cb",
        "colab": {
          "base_uri": "https://localhost:8080/",
          "height": 85
        }
      },
      "source": [
        "!pwd\n",
        "path_to_mount = '/content/drive/My Drive/Colab Notebooks/ncsr/'\n",
        "\n",
        "# Change current working directory\n",
        "os.chdir(path_to_mount)\n",
        "!ls"
      ],
      "execution_count": 0,
      "outputs": [
        {
          "output_type": "stream",
          "text": [
            "/content/drive/My Drive/Colab Notebooks/ncsr\n",
            "chatbot-tf-notebook.ipynb  encoder_serialized.pt  training_checkpoints\n",
            "data\t\t\t   old\t\t\t  version-keras-char-level\n",
            "decoder_serialized.pt\t   pytorch-chatbot.ipynb  version-keras-word-level\n"
          ],
          "name": "stdout"
        }
      ]
    },
    {
      "cell_type": "markdown",
      "metadata": {
        "id": "Z_L9U7-V7pZW",
        "colab_type": "text"
      },
      "source": [
        "Let's import all the libraries we need."
      ]
    },
    {
      "cell_type": "code",
      "metadata": {
        "id": "_1ZsxzH5C-m-",
        "colab_type": "code",
        "outputId": "5c3de393-a2eb-4628-e19f-14a4b139360f",
        "colab": {
          "base_uri": "https://localhost:8080/",
          "height": 34
        }
      },
      "source": [
        "# PyTorch\n",
        "import torch\n",
        "import torch.nn as nn\n",
        "from torch import optim\n",
        "import torch.nn.functional as F\n",
        "\n",
        "# Etc\n",
        "from __future__ import unicode_literals, print_function, division\n",
        "from io import open\n",
        "import unicodedata\n",
        "import re\n",
        "import random\n",
        "import glob\n",
        "import json\n",
        "\n",
        "\n",
        "# Use GPU if available\n",
        "if (torch.cuda.is_available()):\n",
        "    device = torch.device('cuda')\n",
        "    print(\"Running on GPU\")\n",
        "else: \n",
        "    device = torch.device('cpu')\n",
        "    print(\"Running on CPU\")"
      ],
      "execution_count": 0,
      "outputs": [
        {
          "output_type": "stream",
          "text": [
            "Running on GPU\n"
          ],
          "name": "stdout"
        }
      ]
    },
    {
      "cell_type": "markdown",
      "metadata": {
        "id": "VDmvOhAiBIYx",
        "colab_type": "text"
      },
      "source": [
        "## JSON Parsing"
      ]
    },
    {
      "cell_type": "markdown",
      "metadata": {
        "id": "_8dnBfhEAefP",
        "colab_type": "text"
      },
      "source": [
        "***This process is only done once.***\n",
        "\n",
        "***After preprocessing the data, we save it to a local .tsv file and then load it each time. If you don't want to see the whole process, skip to the 'Vocabulary Classes' section.***\n",
        "\n",
        "-----\n"
      ]
    },
    {
      "cell_type": "markdown",
      "metadata": {
        "id": "iuDYmns_1agW",
        "colab_type": "text"
      },
      "source": [
        "Great, we can now see our notebook and the data folder.\n",
        "\n",
        "By exploring our data, we can see that we are interested in the text files inside the *dialogue folder* and more specifically in the '*turns*' value.\n",
        "\n",
        "If we visualize the files, we can understand that they are JSON formatted.\n",
        "\n",
        "However, they are ill-formatted, meaning that the files themselves are not JSONs.\n",
        "\n",
        "Instead, **each line is a JSON object itself.**\n",
        "\n",
        "Let's have a look at all the files and parse them with the *json* and *glob* library."
      ]
    },
    {
      "cell_type": "code",
      "metadata": {
        "id": "O5giGPAL3v3a",
        "colab_type": "code",
        "outputId": "2ce60017-a943-4052-9666-ac8f5ff977e4",
        "colab": {
          "base_uri": "https://localhost:8080/",
          "height": 71
        }
      },
      "source": [
        "# Get absolute paths of files\n",
        "dialogues_regex_folder_path = \"data/dialogues/*.txt\"\n",
        "\n",
        "# Get the absolute paths for each file \n",
        "list_of_files = glob.glob(path_to_mount + dialogues_regex_folder_path)\n",
        "print(list_of_files[:3]) # Visualize the first 3\n",
        "print(len(list_of_files)) # 47"
      ],
      "execution_count": 0,
      "outputs": [
        {
          "output_type": "stream",
          "text": [
            "['/content/drive/My Drive/Colab Notebooks/ncsr/data/dialogues/AGREEMENT_BOT.txt', '/content/drive/My Drive/Colab Notebooks/ncsr/data/dialogues/APARTMENT_FINDER.txt', '/content/drive/My Drive/Colab Notebooks/ncsr/data/dialogues/CHECK_STATUS.txt']\n",
            "47\n"
          ],
          "name": "stdout"
        }
      ]
    },
    {
      "cell_type": "code",
      "metadata": {
        "id": "TL7AmST0yfIj",
        "colab_type": "code",
        "colab": {}
      },
      "source": [
        "# Parsing\n",
        "list_of_dicts = [] # Init\n",
        "\n",
        "# Loop for each file\n",
        "for filename in list_of_files:\n",
        "  with open(filename) as f:\n",
        "      for line in f: # Loop for each line (inside each file)\n",
        "          list_of_dicts.append(json.loads(line)) # insert in a dictionary\n"
      ],
      "execution_count": 0,
      "outputs": []
    },
    {
      "cell_type": "code",
      "metadata": {
        "id": "ERTrgueE4vmr",
        "colab_type": "code",
        "outputId": "96e7df38-fc9c-47fe-9298-a21e26b592ab",
        "colab": {
          "base_uri": "https://localhost:8080/",
          "height": 105
        }
      },
      "source": [
        "# Visualize the dictionaries\n",
        "print(list_of_dicts[0])\n",
        "print(list_of_dicts[1].keys)\n",
        "print(list_of_dicts[332])\n",
        "print(list_of_dicts[:3])"
      ],
      "execution_count": 0,
      "outputs": [
        {
          "output_type": "stream",
          "text": [
            "{'id': 'c399a493', 'user_id': 'c05f0462', 'bot_id': 'c96edf42', 'domain': 'AGREEMENT_BOT', 'task_id': 'a9203a2c', 'turns': ['Hello how may I help you?', 'i am awesome', 'of course you are', 'and i own rental properties on the moon', 'i doubt you own a property in the moon', 'just kidding. i own them on Earth', \"that's a nice joke\", 'because i am a billionaire!', \"i don't seem to know you\", 'and i programmed you', 'i am the programmer']}\n",
            "<built-in method keys of dict object at 0x7f903fc2d900>\n",
            "{'id': '77d8f493', 'user_id': '3205aff7', 'bot_id': 'f3420389', 'domain': 'AGREEMENT_BOT', 'task_id': 'd47b54df', 'turns': ['Hello how may I help you?', 'I must say that an agreement bot is really useless', 'I have never heard a more correct statement in my entire life!', 'yes what useless trip agreement bots are *tripe', \"I couldn't have said it better myself. Is there anything else I can enthusiastically agree with today?\", 'Well I can repeat my sentiment 4 times about agreement bots being utterly useless', 'That sounds like a fantastic idea!', 'I see you agree wholeheartedly!', 'Yes, absolutely. Every circuit in my mechanical brain agrees with every single thing you say.', 'ok glad you agree', 'Likewise']}\n",
            "[{'id': 'c399a493', 'user_id': 'c05f0462', 'bot_id': 'c96edf42', 'domain': 'AGREEMENT_BOT', 'task_id': 'a9203a2c', 'turns': ['Hello how may I help you?', 'i am awesome', 'of course you are', 'and i own rental properties on the moon', 'i doubt you own a property in the moon', 'just kidding. i own them on Earth', \"that's a nice joke\", 'because i am a billionaire!', \"i don't seem to know you\", 'and i programmed you', 'i am the programmer']}, {'id': '2888aa3e', 'user_id': '46fe62d7', 'bot_id': 'bcc50983', 'domain': 'AGREEMENT_BOT', 'task_id': 'd47b54df', 'turns': ['Hello how may I help you?', 'I am the king of the world', 'I agree that you are the king of the world', 'I can have any woman I want!', 'I agree that you can have any woman you desire.', 'Even you bot, if I were in to AIs', 'Agreed.', \"Really? you're awfully agreeable aren't you\", 'I agree that I am awfully agreeable, yes.', 'Having an agreement bot seems like a useless thing to have. I need some spice in my life!', 'I really agree with that. I am rather useles.']}, {'id': '17a8685a', 'user_id': 'f840ce6a', 'bot_id': '97fcd3ba', 'domain': 'AGREEMENT_BOT', 'task_id': '83ad6a66', 'turns': ['Hello how may I help you?', 'Do you that I am a great person?', 'Yes!', 'I am only 6 inches tall.', \"That's correct!\", 'When I speak the whole world stops to listen to what I say', 'You can count on it.', 'I am the Dalai Lama and I am also the Pope', 'What an accomplishment!', 'I have more money than Bill Gares *Gates', 'Yes you do.']}]\n"
          ],
          "name": "stdout"
        }
      ]
    },
    {
      "cell_type": "markdown",
      "metadata": {
        "id": "1KeWnxC5A3rG",
        "colab_type": "text"
      },
      "source": [
        "Great! We have a dictionary out of our raw text dataset.\n",
        "\n",
        "As we can see, we are only interested in the 'turns' value since this contains the array with the QAs.\n",
        "\n",
        "So, we will dump out all the extra properties and create a new dictionary containing only the useful data."
      ]
    },
    {
      "cell_type": "code",
      "metadata": {
        "id": "deFpLw8p8QqX",
        "colab_type": "code",
        "outputId": "17710ffa-252c-4d65-a4ef-9012d0ca9cb2",
        "colab": {
          "base_uri": "https://localhost:8080/",
          "height": 71
        }
      },
      "source": [
        "# Create a new dict containing only useful data\n",
        "new_list_of_dicts = [] \n",
        "\n",
        "for old_dict in list_of_dicts:\n",
        "  foodict = {k: v for k, v in old_dict.items() if (k == 'turns')} \n",
        "  new_list_of_dicts.append(foodict)\n",
        "\n",
        "print(len(new_list_of_dicts))\n",
        "\n",
        "# Just to be sure we don't make bad use of the old variable,\n",
        "# we will make the old dict equal to the new one.\n",
        "# In the end, they are all the same.\n",
        "list_of_dicts = []\n",
        "list_of_dicts = new_list_of_dicts \n",
        "\n",
        "print(list_of_dicts[:2])"
      ],
      "execution_count": 0,
      "outputs": [
        {
          "output_type": "stream",
          "text": [
            "37884\n",
            "[{'turns': ['Hello how may I help you?', 'i am awesome', 'of course you are', 'and i own rental properties on the moon', 'i doubt you own a property in the moon', 'just kidding. i own them on Earth', \"that's a nice joke\", 'because i am a billionaire!', \"i don't seem to know you\", 'and i programmed you', 'i am the programmer']}, {'turns': ['Hello how may I help you?', 'I am the king of the world', 'I agree that you are the king of the world', 'I can have any woman I want!', 'I agree that you can have any woman you desire.', 'Even you bot, if I were in to AIs', 'Agreed.', \"Really? you're awfully agreeable aren't you\", 'I agree that I am awfully agreeable, yes.', 'Having an agreement bot seems like a useless thing to have. I need some spice in my life!', 'I really agree with that. I am rather useles.']}]\n"
          ],
          "name": "stdout"
        }
      ]
    },
    {
      "cell_type": "markdown",
      "metadata": {
        "id": "q_OZcXl0BknR",
        "colab_type": "text"
      },
      "source": [
        "## Data Augmentation & Preparation"
      ]
    },
    {
      "cell_type": "markdown",
      "metadata": {
        "id": "U8AYyQsT-_U9",
        "colab_type": "text"
      },
      "source": [
        "As we see, we now have a new list of dicts which is a list of 37884 dictionaries (if all 47 texts are loaded) that inside contain only one property ('turns'), and each property contains an array with the QA dataset.\n",
        "\n",
        "Notice that the dialog is instantiated by the bot first, and then the human responds. This goes on and on like ping pong and essentially the dialog is over.\n",
        "\n",
        "**If we observe the data more carefully, we can see that the last sentence may be given by both the bot and the user!**\n",
        "\n",
        "This will come in handy when preparing our input, target dataset.\n",
        "\n",
        "Let's assign the dialogs into 2 matrices:\n",
        "- questions \n",
        "- answers\n",
        "\n",
        "But first, some corner cases need to be defined:\n",
        "- A first 'artificial' user 'greeting' to the bot\n",
        "- An 'artificial' bot 'bye' to the user, if the user was the last one in the dialogue."
      ]
    },
    {
      "cell_type": "code",
      "metadata": {
        "id": "ZA1t_yp_4s6L",
        "colab_type": "code",
        "colab": {}
      },
      "source": [
        "# Init matrices\n",
        "questions = []\n",
        "answers = []\n",
        "\n",
        "# We assume that the first answer by the bot (aka \"Hello, how may I help you?\") \n",
        "# is returned after a user greeting.\n",
        "# This is used in order to ensure that the dataset will be even \n",
        "# and each question is paired with an answer.\n",
        "# That's why we create a mini random catalog \n",
        "# of artificial 'ghost' user greetings.\n",
        "matrix_greetings = [\"Hey\", \"Hi\"]\n",
        "\n",
        "# A similar situation happens in the corner case \n",
        "# when the last sentence is from the user.\n",
        "# As said, each sentence from the user should be paired\n",
        "# with a sentence from the bot.\n",
        "# That's why we will in this case add an artificial one.\n",
        "matrix_byes = [\"Ok\", \"Okie\", \"Bye\"]\n",
        "\n",
        "# For each dictionary in the list\n",
        "for dictionary in list_of_dicts:\n",
        "  matrix_QA = dictionary['turns']\n",
        "  \n",
        "  # Append a first random greeting, as explained above\n",
        "  questions.append(random.choice(matrix_greetings))\n",
        "    \n",
        "  # In order to split the QAs to 2 matrices (questions & answers),\n",
        "  # we will use a flag to indicate if the sentence \n",
        "  # is given from the bot or from the user\n",
        "  bot_flag = True # Init\n",
        "\n",
        "  # For each Q/A in the matrix\n",
        "  for sentence in matrix_QA:\n",
        "\n",
        "    if bot_flag == True:\n",
        "      answers.append(sentence) # Used for bot's answers\n",
        "      bot_flag = False # Switch\n",
        "      continue\n",
        "    else:\n",
        "      questions.append(sentence) # Used for user's questions\n",
        "      bot_flag = True # Switch\n",
        "      continue\n",
        "\n",
        "  # The last loop (ideally) ends with a bot's answer,\n",
        "  # thus making bot_flag equal to False.\n",
        "  # Although, with data visualization and exploring,\n",
        "  # we can see that this does not happen all the time.\n",
        "\n",
        "  # Corner case: If the last answers was from the user, \n",
        "  # then we need to add one artificial 'ghost' response \n",
        "  # from the bot to make the dataset even.\n",
        "  if bot_flag == True: \n",
        "    answers.append(random.choice(matrix_byes))\n"
      ],
      "execution_count": 0,
      "outputs": []
    },
    {
      "cell_type": "code",
      "metadata": {
        "id": "oMbXIgqdAWKn",
        "colab_type": "code",
        "outputId": "49165d74-0707-4e55-84cb-f5b3b82f78ef",
        "colab": {
          "base_uri": "https://localhost:8080/",
          "height": 34
        }
      },
      "source": [
        "assert len(questions) == len(answers), \"ERROR: The length of the questions and answer matrices are different.\"\n",
        "# If it does not return any warning/error, then everything is good.\n",
        "\n",
        "print(len(questions)) # We have 238051 QAs (if we load all 47 texts)"
      ],
      "execution_count": 0,
      "outputs": [
        {
          "output_type": "stream",
          "text": [
            "238051\n"
          ],
          "name": "stdout"
        }
      ]
    },
    {
      "cell_type": "code",
      "metadata": {
        "id": "eYEUA_MJ-6kj",
        "colab_type": "code",
        "colab": {}
      },
      "source": [
        "\"\"\"\n",
        "    Write to tsv file so we just load this each time\n",
        "\"\"\"\n",
        "import csv\n",
        "\n",
        "filepath_to_save = '/tmp/output.tsv' # Change accordingly\n",
        "with open(filepath_to_save, 'wt') as out_file:\n",
        "    # Instantiate object\n",
        "    tsv_writer = csv.writer(out_file, delimiter='\\t')\n",
        "\n",
        "    # Loop QAs & write to file\n",
        "    for i in range(len(questions)):\n",
        "        tsv_writer.writerow([questions[i], answers[i]])"
      ],
      "execution_count": 0,
      "outputs": []
    },
    {
      "cell_type": "markdown",
      "metadata": {
        "id": "t-1nuT9EAbq5",
        "colab_type": "text"
      },
      "source": [
        "-------------------- \n",
        "\n",
        "## Vocabulary classes\n",
        "We build a class for both questions and answers.\n",
        "\n",
        "It will be used for 2 separate encoding and decoding objects, since\n",
        "each of them is defined by the same parameters, but with different values."
      ]
    },
    {
      "cell_type": "code",
      "metadata": {
        "id": "nVW2rHlfC6s9",
        "colab_type": "code",
        "colab": {}
      },
      "source": [
        "#### HELPERS\n",
        "\n",
        "### Helper class for word indexing\n",
        "SOS_TOKEN = 0 # Start of sentence\n",
        "EOS_TOKEN = 1 # End of sentence\n",
        "\n",
        "# Let's define a QA (Questions/Answers) class\n",
        "# since each class has its own 'language'.\n",
        "\n",
        "class QA_Lang:\n",
        "    \"\"\" \n",
        "    # The constructor should be specified by its:\n",
        "    # - word2index, a dictionary that maps each word to each index\n",
        "    # - index2word, a dictionary that maps each index to each word\n",
        "    # - n_words, the number of words in the dictionary\n",
        "    \"\"\"\n",
        "    def __init__(self):\n",
        "        self.word2index = {}\n",
        "        self.index2word = {0: 'SOS', 1: 'EOS'} # Reserved for start and end token\n",
        "        self.n_words = 2 # Initialize with start and end token\n",
        "\n",
        "    # Use each sentence and instantiate the class properties\n",
        "    def add_sentence(self, sentence):\n",
        "        for word in sentence.split(' '): # For each word in the sentence\n",
        "            if word not in self.word2index: # If word is not seen\n",
        "                # Add new word\n",
        "                self.word2index[word] = self.n_words\n",
        "                self.index2word[self.n_words] = word\n",
        "                self.n_words += 1\n",
        "            \n"
      ],
      "execution_count": 0,
      "outputs": []
    },
    {
      "cell_type": "markdown",
      "metadata": {
        "id": "IuTLtNNEB2qI",
        "colab_type": "text"
      },
      "source": [
        "## Text Preprocessing\n",
        "Let's remove non-alphabet/punctuation characters and make them all ASCII encoded."
      ]
    },
    {
      "cell_type": "code",
      "metadata": {
        "id": "uoJR2LqIDqLs",
        "colab_type": "code",
        "colab": {}
      },
      "source": [
        "# Preprocessing helper function\n",
        "def preprocess_text(sentence):\n",
        "    \"\"\"\n",
        "    Preprocesses text to lowercase ASCII alphabet-only characters\n",
        "    without punctuation\n",
        "    \"\"\"\n",
        "\n",
        "    # Conver sentence to lowercase, after removing whitespaces\n",
        "    sentence = sentence.lower().strip()\n",
        "\n",
        "    # Convert Unicode string to plain ASCII characters\n",
        "    normalized_sentence = [c for c in unicodedata.normalize('NFD', sentence) if\n",
        "                           unicodedata.category(c) != 'Mn']\n",
        "\n",
        "    # Append the normalized sentence\n",
        "    sentence = ''\n",
        "    sentence = ''.join(normalized_sentence)\n",
        "    \n",
        "    # Remove punctuation and non-alphabet characters\n",
        "    sentence = re.sub(r\"([.!?])\", r\" \\1\", sentence)\n",
        "    sentence = re.sub(r\"[^a-zA-Z.!?]+\", r\" \", sentence)\n",
        "\n",
        "    return sentence"
      ],
      "execution_count": 0,
      "outputs": []
    },
    {
      "cell_type": "code",
      "metadata": {
        "id": "GMDbk6XHp2Ts",
        "colab_type": "code",
        "outputId": "85235e9f-9e9d-45ad-f8f0-a5be21063d33",
        "colab": {
          "base_uri": "https://localhost:8080/",
          "height": 34
        }
      },
      "source": [
        "# Visualize the path once again\n",
        "print(os.getcwd())"
      ],
      "execution_count": 0,
      "outputs": [
        {
          "output_type": "stream",
          "text": [
            "/content/drive/My Drive/Colab Notebooks/ncsr\n"
          ],
          "name": "stdout"
        }
      ]
    },
    {
      "cell_type": "markdown",
      "metadata": {
        "id": "AkCOyLu7B_S0",
        "colab_type": "text"
      },
      "source": [
        "## Load file \n",
        "\n",
        "Read the already-prepared tsv file from the local storage and clean it using the above-defined method.\n",
        "\n",
        "The *preprocess_text() method must be compiled.*"
      ]
    },
    {
      "cell_type": "code",
      "metadata": {
        "id": "Qpaj7mnyDsJM",
        "colab_type": "code",
        "colab": {}
      },
      "source": [
        "# Reading helper function\n",
        "def readQA():\n",
        "    \"\"\"\n",
        "    Reads the tab-separated data from the storage and cleans it\n",
        "    \"\"\"\n",
        "\n",
        "    print('Reading lines from file...')\n",
        "\n",
        "    # Read text from file and split into lines\n",
        "    # Remember that .tsv file separates pairs with the tab character and\n",
        "    # each pair is separated with a newline character\n",
        "\n",
        "    data_path = os.getcwd() + \"/data/dataset.tsv\" # Change to your own\n",
        "    lines = open(data_path, encoding='utf-8').read().strip().split('\\n')\n",
        "\n",
        "    # Split lines into pairs, normalize\n",
        "    TAB_CHARACTER = '\\t'\n",
        "\n",
        "    pairs = [[preprocess_text(sentence) \\\n",
        "              for sentence in line.split(TAB_CHARACTER)] \\\n",
        "              for line in lines]\n",
        "    \n",
        "    ''' \n",
        "    # Find maximum length of pairs\n",
        "    count1 = count2 = 0\n",
        "    max_words = 0\n",
        "    for i in range(len(pairs)):\n",
        "        count1 = len(pairs[i][0].split())\n",
        "        count2 = len(pairs[i][1].split())\n",
        "        result = count1 + count2\n",
        "        if result > max_words:\n",
        "            max_words = result\n",
        "\n",
        "    print(max_words) # 304\n",
        "    '''\n",
        "    \n",
        "    questions = QA_Lang()\n",
        "    answers = QA_Lang()\n",
        "\n",
        "    return questions, answers, pairs\n"
      ],
      "execution_count": 0,
      "outputs": []
    },
    {
      "cell_type": "markdown",
      "metadata": {
        "id": "s1jhGWEODJ8Y",
        "colab_type": "text"
      },
      "source": [
        "## Filtering\n",
        "The maximum number of words in a dialog is 304!\n",
        "\n",
        "If we manually look at our data, we can see that normally most sentences have max ~15 words. We can also validate it with a histogram.\n",
        "\n",
        "If we don't filter the long sentences that compose such dialogs, we will dramatically hurt our training performance.\n",
        "\n",
        "Since so many words is not a usual thing, we can try to filter some sentences based on their word count."
      ]
    },
    {
      "cell_type": "code",
      "metadata": {
        "id": "B87r6QkyD6qc",
        "colab_type": "code",
        "colab": {}
      },
      "source": [
        "MAX_LENGTH = 35 # Arbitrary, try different values!\n",
        "\n",
        "# Filtering helper function\n",
        "def filter(pairs):\n",
        "    \"\"\"\n",
        "    Filters sentences based on the max length defined above.\n",
        "    \"\"\"\n",
        "    new_pairs = []\n",
        "\n",
        "    for pair in pairs:\n",
        "        question_length = len(pair[0].split(' '))\n",
        "        answer_length = len(pair[1].split(' '))\n",
        "\n",
        "        if question_length < MAX_LENGTH and answer_length < MAX_LENGTH:\n",
        "            new_pairs.append(pair)\n",
        "\n",
        "    return new_pairs"
      ],
      "execution_count": 0,
      "outputs": []
    },
    {
      "cell_type": "markdown",
      "metadata": {
        "id": "U08srWz_Dl1k",
        "colab_type": "text"
      },
      "source": [
        "## Preparing the dataset\n",
        "Let's combine all the above little methods in one."
      ]
    },
    {
      "cell_type": "code",
      "metadata": {
        "id": "sd6Ac4133-hI",
        "colab_type": "code",
        "colab": {}
      },
      "source": [
        "def prepare_data():\n",
        "    \"\"\"\n",
        "    Prepares the data, combining all of the above methods and returns:\n",
        "    questions, answers objects and the pairs of sentences\n",
        "    \"\"\"\n",
        "    # Read sentence pairs\n",
        "    questions, answers, pairs = readQA()\n",
        "    print(\"Read \" + str(len(pairs)) + \" sentence pairs\")\n",
        "\n",
        "    # Filter pairs\n",
        "    pairs = filter(pairs)\n",
        "    print(\"Filtered down to \" + str(len(pairs)) + \" sentence pairs\")\n",
        "\n",
        "    # Count words and instantiate the 'language' objects \n",
        "    for pair in pairs:\n",
        "        questions.add_sentence(pair[0])\n",
        "        answers.add_sentence(pair[1])\n",
        "\n",
        "    print(\"The questions object is defined by \" +\n",
        "                        str(questions.n_words) + \" words\")\n",
        "    \n",
        "    print(\"The answers object is defined by \" +\n",
        "                        str(answers.n_words) + \" words\")\n",
        "\n",
        "    return questions, answers, pairs"
      ],
      "execution_count": 0,
      "outputs": []
    },
    {
      "cell_type": "markdown",
      "metadata": {
        "id": "ty9_Xb2dEL5o",
        "colab_type": "text"
      },
      "source": [
        "Finally, let's call the method."
      ]
    },
    {
      "cell_type": "code",
      "metadata": {
        "id": "0rpfA3B0D8RE",
        "colab_type": "code",
        "outputId": "af774d06-4dea-4ac3-d15f-6d580d9e0a93",
        "colab": {
          "base_uri": "https://localhost:8080/",
          "height": 102
        }
      },
      "source": [
        "# Load and prepare the dataset, printing some characteristics\n",
        "questions, answers, pairs = prepare_data()"
      ],
      "execution_count": 0,
      "outputs": [
        {
          "output_type": "stream",
          "text": [
            "Reading lines from file...\n",
            "Read 238051 sentence pairs\n",
            "Filtered down to 236832 sentence pairs\n",
            "The questions object is defined by 18847 words\n",
            "The answers object is defined by 21561 words\n"
          ],
          "name": "stdout"
        }
      ]
    },
    {
      "cell_type": "code",
      "metadata": {
        "id": "vryoLaWF16_9",
        "colab_type": "code",
        "outputId": "5b626cab-e4ca-482c-b18d-5bfe9e28fd82",
        "colab": {
          "base_uri": "https://localhost:8080/",
          "height": 88
        }
      },
      "source": [
        "# Visualize 3 random pairs of Q&A\n",
        "for _ in range(3):\n",
        "    print(random.choice(pairs))"
      ],
      "execution_count": 0,
      "outputs": [
        {
          "output_type": "stream",
          "text": [
            "['hi', 'hello how may i help you ?']\n",
            "['what a disappointment . this bot is trash .', 'im sorry but i am just a bot to clarify rules']\n",
            "['yes please maybe . townhouse to rent ?', 'brookview at citrus park has some spacious bedroom townhomes starting at .']\n"
          ],
          "name": "stdout"
        }
      ]
    },
    {
      "cell_type": "markdown",
      "metadata": {
        "id": "7mx-ZCaiEn0p",
        "colab_type": "text"
      },
      "source": [
        "## NN Design: Attention-based seq2seq Model \n",
        "Let's build a class for our Encoder and our Attention-based Decoder\n",
        "As stated in the report, this will be based on [PyTorch's](https://github.com/pytorch/tutorials/blob/master/intermediate_source/seq2seq_translation_tutorial.py) and [TensorFlow's intermediate tutorials](https://github.com/tensorflow/nmt/tree/master/nmt) on Neural Machine Translation."
      ]
    },
    {
      "cell_type": "code",
      "metadata": {
        "id": "XKyUM1JEDlsY",
        "colab_type": "code",
        "colab": {}
      },
      "source": [
        "##### SEQ2SEQ MODEL\n",
        "\n",
        "class EncoderRNN(nn.Module):\n",
        "    \"\"\"\n",
        "    The encoder is a GRU in our case.\n",
        "    It takes the questions matrix as input. For each word in the \n",
        "    sentence, it produces a vector and a hidden state; The last one\n",
        "    will be passed to the decoder in order to initialize it.\n",
        "    \"\"\"\n",
        "    # Initialize encoder\n",
        "    def __init__(self, input_size, hidden_size): \n",
        "        super(EncoderRNN, self).__init__()\n",
        "        self.hidden_size = hidden_size\n",
        "\n",
        "        # Embedding layers convert the padded sentences into appropriate vectors\n",
        "        # The input size is equal to the questions vocabulary\n",
        "        self.embedding = nn.Embedding(input_size, hidden_size)\n",
        "        \n",
        "        # We use a GRU because it's simpler and more efficient (training-wise)\n",
        "        # than an LSTM\n",
        "        self.gru = nn.GRU(hidden_size, hidden_size)\n",
        "\n",
        "    # Forward passes\n",
        "    def forward(self, input, hidden):\n",
        "        embedded = self.embedding(input).view(1, 1, -1)\n",
        "        output = embedded\n",
        "\n",
        "        # Pass the hidden state and the encoder output to the next word input\n",
        "        output, hidden = self.gru(output, hidden) \n",
        "\n",
        "        return output, hidden\n",
        "\n",
        "    # PyTorch Forward Passes\n",
        "    def init_hidden(self):\n",
        "        return torch.zeros(1, 1, self.hidden_size, device=device)\n",
        "\n",
        "##### ATTENTION-BASED DECODER\n",
        "\"\"\"\n",
        "(Description taken from PyTorch Tutorial, as referenced)\n",
        "\n",
        "Calculate a set of attention weights.\n",
        "\n",
        "Multiply attention weights by the encoder output vectors to create a weighted\n",
        "combination. The result would contain information about that specific part of\n",
        "the input sequence, and thus help the decoder choose the right output words.\n",
        "\n",
        "To calculate the attention weights, we'll use a feed-forward layer that uses\n",
        "the decoder's input and hidden state as inputs.\n",
        "\n",
        "We will have to choose a max sentence length (input length, for encoder outputs),\n",
        "wherein sentences of the max length will use all attention weights, while shorter\n",
        "sentences would only use the first few.\n",
        "\"\"\"\n",
        "class AttnDecoderRNN(nn.Module):\n",
        "    def __init__(self, hidden_size, output_size, dropout_p=0.1, max_length=MAX_LENGTH):\n",
        "        # Initialize the constructor\n",
        "        super(AttnDecoderRNN, self).__init__()\n",
        "        self.hidden_size = hidden_size\n",
        "        self.output_size = output_size\n",
        "        self.dropout_p = dropout_p\n",
        "        self.max_length = max_length\n",
        "\n",
        "        self.embedding = nn.Embedding(self.output_size, self.hidden_size)\n",
        "        # Combine Fully Connected Layer\n",
        "        self.attention = nn.Linear(self.hidden_size * 2, self.max_length)\n",
        "        self.attention_combine = nn.Linear(self.hidden_size * 2,\n",
        "                                           self.hidden_size)\n",
        "        # Use dropout\n",
        "        self.dropout = nn.Dropout(self.dropout_p)\n",
        "\n",
        "        # Follow with a GRU and a FC layer\n",
        "        # We use a GRU because it's simpler and more efficient (training-wise)\n",
        "        # than an LSTM\n",
        "        self.gru = nn.GRU(self.hidden_size, self.hidden_size)\n",
        "        self.out = nn.Linear(self.hidden_size, self.output_size)\n",
        "\n",
        "    def forward(self, input, hidden, encoder_outputs):\n",
        "        # Forward passes as from the repo\n",
        "        embedded = self.embedding(input).view(1, 1, -1)\n",
        "        embedded = self.dropout(embedded)\n",
        "\n",
        "        attention_weights = F.softmax(self.attention(torch.cat((embedded[0],\n",
        "                                                                hidden[0]), 1)),\n",
        "                                                                 dim=1)\n",
        "        \n",
        "        attention_applied = torch.bmm(attention_weights.unsqueeze(0), encoder_outputs.unsqueeze(0))\n",
        "\n",
        "        output = torch.cat((embedded[0], attention_applied[0]), 1)\n",
        "        output = self.attention_combine(output).unsqueeze(0)\n",
        "\n",
        "        # Follow with a ReLU activation function after dropout\n",
        "        output = F.relu(output)\n",
        "\n",
        "        # Then, use the GRU\n",
        "        output, hidden = self.gru(output, hidden)\n",
        "\n",
        "        # And use softmax as the activation function\n",
        "        output = F.log_softmax(self.out(output[0]), dim=1)\n",
        "\n",
        "        return output, hidden, attention_weights\n",
        "\n",
        "    def init_hidden(self):\n",
        "        return torch.zeros(1, 1, self.hidden_size, device=device)"
      ],
      "execution_count": 0,
      "outputs": []
    },
    {
      "cell_type": "markdown",
      "metadata": {
        "id": "acEwl_8AGI8A",
        "colab_type": "text"
      },
      "source": [
        "## NN Preprocessing\n",
        "Neural Networks require fixed-size integer vectors in order to operate.\n",
        "\n",
        "That's why we will one-hot encode our sentences using the appropriate vocabulary (the encoder's or the decoder's one) each time."
      ]
    },
    {
      "cell_type": "code",
      "metadata": {
        "id": "2RjIfUdPEQu3",
        "colab_type": "code",
        "colab": {}
      },
      "source": [
        "##### NETWORK PREPROCESSING HELPERS\n",
        "\n",
        "def tensor_from_sentence(lang, sentence):\n",
        "    \"\"\"\n",
        "    Given an input sentence and a 'language' object, \n",
        "    it creates an appropriate tensor with the EOS_TOKEN in the end.\n",
        "    \"\"\"\n",
        "\n",
        "    # For each sentence, get a list of the word indices\n",
        "    indices = [lang.word2index[word] for word in sentence.split(' ')]\n",
        "    indices.append(EOS_TOKEN) # That will help the decoder know when to stop\n",
        "\n",
        "    # Convert to a PyTorch tensor\n",
        "    sentence_tensor = torch.tensor(indices, dtype=torch.long, device=device).view(-1, 1)\n",
        "\n",
        "    return sentence_tensor\n",
        "\n",
        "def tensors_from_pair(pair):\n",
        "    \"\"\"\n",
        "    Given our 2D dataset as a list, it calls the 'tensor_from_sentence' method\n",
        "    and returns the appropriate input/target tensors\n",
        "    \"\"\"\n",
        "    \n",
        "    input_tensor = tensor_from_sentence(questions, pair[0])\n",
        "    target_tensor = tensor_from_sentence(answers, pair[1])\n",
        "\n",
        "    return (input_tensor, target_tensor)"
      ],
      "execution_count": 0,
      "outputs": []
    },
    {
      "cell_type": "markdown",
      "metadata": {
        "id": "MGtzntU2G1iO",
        "colab_type": "text"
      },
      "source": [
        "Some display helpers will be used in the training."
      ]
    },
    {
      "cell_type": "code",
      "metadata": {
        "id": "SMBMDUFRET0H",
        "colab_type": "code",
        "colab": {}
      },
      "source": [
        "##### DISPLAY HELPERS\n",
        "\"\"\"\n",
        "Helper functions for printing time elapsed and estimated remaining time for\n",
        "training.\n",
        "\"\"\"\n",
        "import time\n",
        "import math\n",
        "\n",
        "def as_minutes(s):\n",
        "    m = math.floor(s / 60)\n",
        "    s -= m * 60\n",
        "\n",
        "    return '%dm %ds' % (m, s)\n",
        "\n",
        "def time_since(since, percent):\n",
        "    now = time.time()\n",
        "    s = now - since\n",
        "    es = s / (percent)\n",
        "    rs = es - s\n",
        "\n",
        "    return '%s (- %s)' % (as_minutes(s), as_minutes(rs))"
      ],
      "execution_count": 0,
      "outputs": []
    },
    {
      "cell_type": "markdown",
      "metadata": {
        "id": "im4ePutAHVOK",
        "colab_type": "text"
      },
      "source": [
        "## NN Training\n",
        "We will exploit the teacher forcing policy for training.\n",
        "\n",
        "Also, we need to specify the encoder-decoder pipeline, along with any initialization needed."
      ]
    },
    {
      "cell_type": "code",
      "metadata": {
        "id": "MFNU2jbAENp2",
        "colab_type": "code",
        "colab": {}
      },
      "source": [
        "# Training helper method\n",
        "def train(input_tensor, target_tensor, encoder, decoder, encoder_optimizer,\n",
        "            decoder_optimizer, criterion, max_length = MAX_LENGTH):\n",
        "    \"\"\"\n",
        "    This method is responsible for the NN training. Specifically:\n",
        "\n",
        "    - Runs input sentence through encoder\n",
        "    - Keeps track of every output and the last hidden state\n",
        "    - Then, the decoder is given the start of sentence token (SOS) \n",
        "            as its first input, and the last hidden state of the encoder\n",
        "            as its first hidden state. We also utilize teacher forcing;\n",
        "            The decoder uses the real target outputs as each next input.\n",
        "    - Returns the current loss\n",
        "    \"\"\"\n",
        "\n",
        "    # Train one iteration\n",
        "    encoder_hidden = encoder.init_hidden()\n",
        "\n",
        "    # Set gradients to zero \n",
        "    encoder_optimizer.zero_grad()\n",
        "    decoder_optimizer.zero_grad()\n",
        "\n",
        "    # Get input and target length\n",
        "    input_length = input_tensor.size(0)\n",
        "    target_length = target_tensor.size(0)\n",
        "\n",
        "    # Init outputs to a zeros array equal to MAX_LENGTH \n",
        "    # and the encoder's latent dimensionality\n",
        "    encoder_outputs = torch.zeros(max_length, encoder.hidden_size, device=device)\n",
        "\n",
        "    # Initialize the loss\n",
        "    loss = 0 \n",
        "\n",
        "    # Encode input\n",
        "    for encoder_input in range(input_length):\n",
        "        # Include hidden state from the last input when encoding current input\n",
        "        encoder_output, encoder_hidden = encoder(input_tensor[encoder_input], encoder_hidden)\n",
        "        encoder_outputs[encoder_input] = encoder_output[0, 0]\n",
        "\n",
        "    # Decoder uses SOS token as first input\n",
        "    decoder_input = torch.tensor([[SOS_TOKEN]], device=device)\n",
        "\n",
        "    # Decoder uses last hidden state of encoder as first hidden state\n",
        "    decoder_hidden = encoder_hidden\n",
        "\n",
        "    # Teacher forcing: Feed the actual target as the next input instead of the predicted one\n",
        "    for d_i in range(target_length):\n",
        "        decoder_output, decoder_hidden, decoder_attention = decoder(decoder_input,\n",
        "                                                                    decoder_hidden,\n",
        "                                                                    encoder_outputs)\n",
        "\n",
        "        loss += criterion(decoder_output, target_tensor[d_i])\n",
        "\n",
        "        decoder_input = target_tensor[d_i] # Teacher forcing\n",
        "\n",
        "    # Compute costs for each trainable parameter (dloss/dx)\n",
        "    loss.backward()\n",
        "\n",
        "    # Backpropagate & update parameters\n",
        "    encoder_optimizer.step()\n",
        "    decoder_optimizer.step()\n",
        "\n",
        "    return loss.item() / target_length"
      ],
      "execution_count": 0,
      "outputs": []
    },
    {
      "cell_type": "markdown",
      "metadata": {
        "id": "DSzXBTKbHvNc",
        "colab_type": "text"
      },
      "source": [
        "For a predefined number of iterations, we will train our Neural Network, using the above helper train() method."
      ]
    },
    {
      "cell_type": "code",
      "metadata": {
        "id": "hpVRogVxcyTC",
        "colab_type": "code",
        "colab": {}
      },
      "source": [
        "def train_iters(encoder, decoder, n_iters, print_every=1000, learning_rate=0.01):\n",
        "    \"\"\"\n",
        "    Calls the train() method for a number of iterations.\n",
        "    It tracks the time progress while initializing optimizers and cost function.\n",
        "    In the same time, it creates the sets of the training pairs.\n",
        "    \"\"\"\n",
        "\n",
        "    start = time.time() # Get start time\n",
        "    print_loss_total = 0 # Reset after each print_every\n",
        "    \n",
        "    # Set optimizers\n",
        "    #encoder_optimizer = optim.Adam(encoder.parameters(), amsgrad = True, lr=learning_rate)\n",
        "    #decoder_optimizer = optim.Adam(encoder.parameters(), amsgrad = True, lr=learning_rate)\n",
        "    encoder_optimizer = optim.SGD(encoder.parameters(), lr=learning_rate)\n",
        "    decoder_optimizer = optim.SGD(decoder.parameters(), lr=learning_rate)\n",
        "\n",
        "    # Shuffle the training pairs\n",
        "    training_pairs = [tensors_from_pair(random.choice(pairs)) for i in range(n_iters)]\n",
        "\n",
        "    # Set the cost function\n",
        "    criterion = nn.NLLLoss() # Also known as the multiclass cross-entropy \n",
        "    \n",
        "    # For each iteration\n",
        "    for i in range(1, n_iters + 1):\n",
        "        training_pair = training_pairs[i - 1] # Create a training pair\n",
        "\n",
        "        # Extract input and target tensor from the pair\n",
        "        input_tensor = training_pair[0]\n",
        "        target_tensor = training_pair[1]\n",
        "\n",
        "        # Train for each pair\n",
        "        loss = train(input_tensor, target_tensor, encoder, decoder,\n",
        "                encoder_optimizer, decoder_optimizer, criterion)\n",
        "\n",
        "        print_loss_total += loss\n",
        "\n",
        "        # Print progress\n",
        "        if i % print_every == 0:\n",
        "            print_loss_avg = print_loss_total / print_every\n",
        "            print_loss_total = 0 # Reset\n",
        "            print('%s (%d %d%%) %.4f' % (time_since(start, i / n_iters),\n",
        "                             i, i / n_iters * 100, print_loss_avg))"
      ],
      "execution_count": 0,
      "outputs": []
    },
    {
      "cell_type": "markdown",
      "metadata": {
        "id": "cfwZII3tIRYX",
        "colab_type": "text"
      },
      "source": [
        "Let's train our Neural Net."
      ]
    },
    {
      "cell_type": "code",
      "metadata": {
        "id": "SYXALqIZwHVy",
        "colab_type": "code",
        "colab": {}
      },
      "source": [
        "##### TRAIN \n",
        "hidden_size = 512 # Change arbitrarily depending on the results\n",
        "\n",
        "# Instantiate Encoder and Attention Decoder\n",
        "encoder = EncoderRNN(questions.n_words, hidden_size).to(device)\n",
        "attention_decoder = AttnDecoderRNN(hidden_size, answers.n_words, dropout_p=0.2).to(device)\n",
        "\n",
        "# Train for n_iters random samples\n",
        "# The dataset holds 238051 dialogs while we filter some of them\n",
        "# Obviously, deep learning computations need really high-performance hardware.\n",
        "# Let's experiment with a number of iterations; I guess we just need a proof of concept.\n",
        "n_iters = 70000 # Seems good after many experiments (check report)"
      ],
      "execution_count": 0,
      "outputs": []
    },
    {
      "cell_type": "code",
      "metadata": {
        "id": "X5y9tP17zaZz",
        "colab_type": "code",
        "outputId": "b5a0a56e-20de-43aa-f578-35f69a3e8dc9",
        "colab": {
          "base_uri": "https://localhost:8080/",
          "height": 309
        }
      },
      "source": [
        "\"\"\"\n",
        "    Call training for a number of iterations, while printing every tenth of that\n",
        "\n",
        "---- COMMENT THE FOLLOWING LINE IF TESTING WITH ALREADY TRAINED MODELS ---\n",
        "\"\"\"\n",
        "\n",
        "train_iters(encoder, attention_decoder, n_iters, print_every=(n_iters//15))\n",
        "\n",
        "\"\"\"\n",
        "---- UNCOMMENT THE FOLLOWING LINE IF TESTING WITH ALREADY TRAINED MODELS ---\n",
        "# Specify path name\n",
        "encoder_name = 'encoder_serialized.pt'\n",
        "decoder_name = 'decoder_serialized.pt'\n",
        "\n",
        "## Load previously trained models\n",
        "encoder = torch.load(encoder_name)\n",
        "attention_decoder = torch.load(decoder_name)\n",
        "\"\"\""
      ],
      "execution_count": 0,
      "outputs": [
        {
          "output_type": "stream",
          "text": [
            "5m 33s (- 77m 44s) (4666 6%) 3.2671\n",
            "10m 56s (- 71m 10s) (9332 13%) 3.0837\n",
            "16m 21s (- 65m 28s) (13998 19%) 2.9771\n",
            "21m 40s (- 59m 38s) (18664 26%) 2.9630\n",
            "27m 8s (- 54m 17s) (23330 33%) 2.8874\n",
            "32m 33s (- 48m 50s) (27996 39%) 2.7967\n",
            "38m 0s (- 43m 27s) (32662 46%) 2.8116\n",
            "43m 30s (- 38m 4s) (37328 53%) 2.8098\n",
            "48m 58s (- 32m 40s) (41994 59%) 2.7323\n",
            "54m 26s (- 27m 13s) (46660 66%) 2.7327\n",
            "59m 46s (- 21m 44s) (51326 73%) 2.6190\n",
            "65m 11s (- 16m 18s) (55992 79%) 2.6361\n",
            "70m 38s (- 10m 52s) (60658 86%) 2.6164\n",
            "76m 7s (- 5m 26s) (65324 93%) 2.6393\n",
            "81m 34s (- 0m 0s) (69990 99%) 2.6089\n"
          ],
          "name": "stdout"
        },
        {
          "output_type": "execute_result",
          "data": {
            "text/plain": [
              "\"\\n---- UNCOMMENT THE FOLLOWING LINE IF TESTING WITH ALREADY TRAINED MODELS ---\\n# Specify path name\\nencoder_name = 'encoder_serialized.pt'\\ndecoder_name = 'decoder_serialized.pt'\\n\\n## Load previously trained models\\nencoder = torch.load(encoder_name)\\nattention_decoder = torch.load(decoder_name)\\n\""
            ]
          },
          "metadata": {
            "tags": []
          },
          "execution_count": 42
        }
      ]
    },
    {
      "cell_type": "markdown",
      "metadata": {
        "id": "BWEdtex9IpW9",
        "colab_type": "text"
      },
      "source": [
        "Remember that this time will be exponentially larger when training on a CPU.\n",
        "Kudos to Google Colab!"
      ]
    },
    {
      "cell_type": "markdown",
      "metadata": {
        "id": "BrGUTrhyI75P",
        "colab_type": "text"
      },
      "source": [
        "## Inference\n",
        "Of course, there is no standard metric for such applications. \n",
        "We could perform BLEU but it's not in our context.\n",
        "\n",
        "Let's manually test our input sentences by building an inference method."
      ]
    },
    {
      "cell_type": "code",
      "metadata": {
        "id": "D1UcnKHTc5MO",
        "colab_type": "code",
        "colab": {}
      },
      "source": [
        "# Inference helper method\n",
        "def inference(encoder, decoder, sentence, max_length=MAX_LENGTH):\n",
        "    \"\"\"\n",
        "    Returns the decoded string after doing a forward pass in the seq2seq model.\n",
        "    \"\"\"\n",
        "      \n",
        "    with torch.no_grad(): # Stop autograd from tracking history on Tensors\n",
        "\n",
        "        sentence = preprocess_text(sentence) # Preprocess sentence\n",
        "\n",
        "        input_tensor = tensor_from_sentence(questions, sentence) # One-hot tensor\n",
        "        input_length = input_tensor.size()[0]\n",
        "\n",
        "        # Init encoder hidden state\n",
        "        encoder_hidden = encoder.init_hidden()\n",
        "\n",
        "        # Init encoder outputs\n",
        "        encoder_outputs = torch.zeros(max_length, encoder.hidden_size, device=device)\n",
        "\n",
        "        # Forward pass in the encoder\n",
        "        for encoder_input in range(input_length):\n",
        "            encoder_output, encoder_hidden = encoder(input_tensor[encoder_input],\n",
        "                                                     encoder_hidden)\n",
        "            encoder_outputs[encoder_input] += encoder_output[0, 0]\n",
        "\n",
        "        # Start of sentence token\n",
        "        decoder_input = torch.tensor([[SOS_TOKEN]], device=device)\n",
        "\n",
        "        # Decoder's initial hidden state is encoder's last hidden state\n",
        "        decoder_hidden = encoder_hidden\n",
        "\n",
        "        # Init the results array\n",
        "        decoded_words = []\n",
        "\n",
        "        # Forward pass in the decoder\n",
        "        for d_i in range(max_length):\n",
        "            decoder_output, decoder_hidden, decoder_attention = decoder(\n",
        "                    decoder_input, decoder_hidden, encoder_outputs)\n",
        "            \n",
        "            _, top_i = decoder_output.data.topk(1) \n",
        "\n",
        "            if top_i.item() == EOS_TOKEN: # If EOS is predicted\n",
        "                break # Break and return the sentence to the user\n",
        "            else:\n",
        "                # Append prediction by using index2word\n",
        "                decoded_words.append(answers.index2word[top_i.item()])\n",
        "\n",
        "            # Use prediction as input\n",
        "            decoder_input = top_i.squeeze().detach()\n",
        "\n",
        "        return ' '.join(decoded_words) # Return the predicted sentence string "
      ],
      "execution_count": 0,
      "outputs": []
    },
    {
      "cell_type": "code",
      "metadata": {
        "id": "J4sTCwTNFOfv",
        "colab_type": "code",
        "outputId": "8ca7ba50-daf2-42b9-fada-1816bed441b9",
        "colab": {
          "base_uri": "https://localhost:8080/",
          "height": 476
        }
      },
      "source": [
        "\n",
        "print(\"Enter /q to quit\")\n",
        "while (1):\n",
        "  \n",
        "  user_input = input(\"User: \")\n",
        "\n",
        "  user_input = str(user_input)\n",
        "\n",
        "  if user_input == '/q':\n",
        "    print(\"Quitting chat..\")\n",
        "    break;\n",
        "  else:\n",
        "    print(\"Bot: \" + str(inference(encoder, attention_decoder, user_input)))\n"
      ],
      "execution_count": 0,
      "outputs": [
        {
          "output_type": "stream",
          "text": [
            "Enter /q to quit\n",
            "User: hello\n",
            "Bot: hi ! how can i help you today ?\n",
            "User: Do you have anything to offer me today? I need some guidance. What to do today?\n",
            "Bot: i have sent them to your email\n",
            "User: Instructions or.. what??!\n",
            "Bot: you can t own properties on the moon .\n",
            "User: I did not speak about the moon, mate. You did.\n",
            "Bot: i agree\n",
            "User: God, nevermind. Can you maybe maybe help me build a really awesome time machine??????\n",
            "Bot: i am sorry but that is impossible request\n",
            "User: It's like going to the moon\n",
            "Bot: i agree\n",
            "User: Can you order a margarita pizza for me at least?\n",
            "Bot: i can help with that .\n",
            "User: Where will you send it?\n",
            "Bot: i will send you the link .\n",
            "User: What link?\n",
            "Bot: it s a scam website .\n",
            "User: Then, do not order from it!\n",
            "Bot: i will send you to the contact .\n",
            "User: No\n",
            "Bot: ok\n",
            "User: Thank you, bye byee!\n",
            "Bot: bye\n",
            "User: /q\n",
            "Quitting chat..\n"
          ],
          "name": "stdout"
        }
      ]
    },
    {
      "cell_type": "markdown",
      "metadata": {
        "id": "SjVcqqlIKQW4",
        "colab_type": "text"
      },
      "source": [
        "## Serialization\n",
        "If we serialize our data, then we can load (or deserialize) the whole model from a local file. That way, we skip waiting all of the training time.\n",
        "\n",
        "*Note: In case you want to deserialize and inference the model, you need to run some above cells like the preprocessing methods, etc.*\n"
      ]
    },
    {
      "cell_type": "code",
      "metadata": {
        "id": "A9QeP3UaW2E4",
        "colab_type": "code",
        "outputId": "12c008ad-d384-45d9-d5bf-5876f088aa9d",
        "colab": {
          "base_uri": "https://localhost:8080/",
          "height": 122
        }
      },
      "source": [
        "encoder_name = 'encoder_serialized.pt'\n",
        "decoder_name = 'decoder_serialized.pt'\n",
        "\n",
        "# Serialize the encoder/decoder objects in your local directory\n",
        "print('Saving model...')\n",
        "torch.save(encoder, encoder_name)\n",
        "torch.save(attention_decoder, decoder_name)"
      ],
      "execution_count": 0,
      "outputs": [
        {
          "output_type": "stream",
          "text": [
            "Saving model...\n"
          ],
          "name": "stdout"
        },
        {
          "output_type": "stream",
          "text": [
            "/usr/local/lib/python3.6/dist-packages/torch/serialization.py:256: UserWarning: Couldn't retrieve source code for container of type EncoderRNN. It won't be checked for correctness upon loading.\n",
            "  \"type \" + obj.__name__ + \". It won't be checked \"\n",
            "/usr/local/lib/python3.6/dist-packages/torch/serialization.py:256: UserWarning: Couldn't retrieve source code for container of type AttnDecoderRNN. It won't be checked for correctness upon loading.\n",
            "  \"type \" + obj.__name__ + \". It won't be checked \"\n"
          ],
          "name": "stderr"
        }
      ]
    }
  ]
}